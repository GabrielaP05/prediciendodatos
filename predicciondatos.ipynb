{
  "nbformat": 4,
  "nbformat_minor": 0,
  "metadata": {
    "colab": {
      "provenance": [],
      "authorship_tag": "ABX9TyOv8ZaD+2ZRwE0NH17M+pFs",
      "include_colab_link": true
    },
    "kernelspec": {
      "name": "python3",
      "display_name": "Python 3"
    },
    "language_info": {
      "name": "python"
    }
  },
  "cells": [
    {
      "cell_type": "markdown",
      "metadata": {
        "id": "view-in-github",
        "colab_type": "text"
      },
      "source": [
        "<a href=\"https://colab.research.google.com/github/GabrielaP05/prediciendodatos/blob/main/predicciondatos.ipynb\" target=\"_parent\"><img src=\"https://colab.research.google.com/assets/colab-badge.svg\" alt=\"Open In Colab\"/></a>"
      ]
    },
    {
      "source": [
        "import pandas as pd\n",
        "from sklearn.linear_model import LinearRegression\n",
        "from sklearn.metrics import mean_squared_error\n",
        "\n",
        "# Instala gdown para descargar archivos de Google Drive\n",
        "!pip install gdown\n",
        "\n",
        "# Obtén el enlace para compartir de tu archivo y reemplaza 'YOUR_FILE_ID'\n",
        "file_id = '1XHmylmQS9P3NJ-71GviyRaNH2R6WQ8jq'\n",
        "file_path = f'https://drive.google.com/uc?id={file_id}'\n",
        "\n",
        "# Descarga el archivo\n",
        "!gdown {file_path}\n",
        "\n",
        "!ls\n",
        "\n",
        "\n",
        "# Reemplaza 'nombre_real_del_archivo.csv' con el nombre real del archivo descargado\n",
        "datos_descargados = 'datos_descargados.csv'  # Replace with actual file name\n",
        "df = pd.read_csv(datos_descargados)  # Use the variable 'nombre_del_archivo' here\n",
        "\n",
        "# Print the column names to verify if 'death_event' exists and check for typos\n",
        "print(df.columns)\n",
        "\n",
        "\n",
        "\n",
        "# Paso 1: Preparación de los datos\n",
        "X = df.drop(columns=['DEATH_EVENT', 'age'])  # Removed 'categoria_edad' as it is not in the DataFrame\n",
        "y = df['age']  # La columna 'age' será nuestro vector objetivo\n",
        "\n",
        "# Paso 2: Ajustar el modelo de regresión lineal\n",
        "model = LinearRegression()\n",
        "model.fit(X, y)\n",
        "\n",
        "# Paso 3: Predicción y evaluación\n",
        "predicciones = model.predict(X)\n",
        "\n",
        "# Comparar las predicciones con las edades reales\n",
        "mse = mean_squared_error(y, predicciones)\n",
        "print(f\"Error cuadrático medio: {mse}\")\n",
        "\n",
        "# Puedes imprimir las primeras predicciones y las edades reales para verificar\n",
        "print(\"Predicciones:\", predicciones[:10])\n",
        "print(\"Edades reales:\", y[:10].values)"
      ],
      "cell_type": "code",
      "metadata": {
        "colab": {
          "base_uri": "https://localhost:8080/"
        },
        "id": "_BUxrd3Lof0Z",
        "outputId": "b11e657d-2fec-4a21-8b7f-934773543988"
      },
      "execution_count": 2,
      "outputs": [
        {
          "output_type": "stream",
          "name": "stdout",
          "text": [
            "Requirement already satisfied: gdown in /usr/local/lib/python3.10/dist-packages (5.1.0)\n",
            "Requirement already satisfied: beautifulsoup4 in /usr/local/lib/python3.10/dist-packages (from gdown) (4.12.3)\n",
            "Requirement already satisfied: filelock in /usr/local/lib/python3.10/dist-packages (from gdown) (3.15.3)\n",
            "Requirement already satisfied: requests[socks] in /usr/local/lib/python3.10/dist-packages (from gdown) (2.31.0)\n",
            "Requirement already satisfied: tqdm in /usr/local/lib/python3.10/dist-packages (from gdown) (4.66.4)\n",
            "Requirement already satisfied: soupsieve>1.2 in /usr/local/lib/python3.10/dist-packages (from beautifulsoup4->gdown) (2.5)\n",
            "Requirement already satisfied: charset-normalizer<4,>=2 in /usr/local/lib/python3.10/dist-packages (from requests[socks]->gdown) (3.3.2)\n",
            "Requirement already satisfied: idna<4,>=2.5 in /usr/local/lib/python3.10/dist-packages (from requests[socks]->gdown) (3.7)\n",
            "Requirement already satisfied: urllib3<3,>=1.21.1 in /usr/local/lib/python3.10/dist-packages (from requests[socks]->gdown) (2.0.7)\n",
            "Requirement already satisfied: certifi>=2017.4.17 in /usr/local/lib/python3.10/dist-packages (from requests[socks]->gdown) (2024.6.2)\n",
            "Requirement already satisfied: PySocks!=1.5.7,>=1.5.6 in /usr/local/lib/python3.10/dist-packages (from requests[socks]->gdown) (1.7.1)\n",
            "Downloading...\n",
            "From: https://drive.google.com/uc?id=1XHmylmQS9P3NJ-71GviyRaNH2R6WQ8jq\n",
            "To: /content/datos_descargados.csv\n",
            "100% 12.2k/12.2k [00:00<00:00, 28.7MB/s]\n",
            "datos_descargados.csv  sample_data\n",
            "Index(['age', 'anaemia', 'creatinine_phosphokinase', 'diabetes',\n",
            "       'ejection_fraction', 'high_blood_pressure', 'platelets',\n",
            "       'serum_creatinine', 'serum_sodium', 'sex', 'smoking', 'time',\n",
            "       'DEATH_EVENT'],\n",
            "      dtype='object')\n",
            "Error cuadrático medio: 127.49071211362029\n",
            "Predicciones: [66.18635619 58.37679767 64.31800106 65.84507736 63.92967611 69.15527819\n",
            " 64.60361941 64.92655035 65.56894605 77.82235994]\n",
            "Edades reales: [75. 55. 65. 50. 65. 90. 75. 60. 65. 80.]\n"
          ]
        }
      ]
    }
  ]
}